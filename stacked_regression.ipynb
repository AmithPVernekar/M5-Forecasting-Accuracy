{
 "cells": [
  {
   "cell_type": "code",
   "execution_count": 1,
   "metadata": {},
   "outputs": [],
   "source": [
    "import pandas as pd\n",
    "import numpy as np\n",
    "from tqdm import tqdm\n",
    "from sklearn.model_selection import train_test_split\n",
    "from sklearn import linear_model\n",
    "from lightgbm import LGBMRegressor\n",
    "from catboost import CatBoostRegressor\n",
    "from sklearn import tree\n",
    "from sklearn.metrics import mean_squared_error\n",
    "import warnings\n",
    "import random\n",
    "warnings.filterwarnings(\"ignore\")\n",
    "import os\n",
    "from IPython.display import Image\n",
    "import matplotlib.pyplot as plt\n",
    "os.environ['KAGGLE_CONFIG_DIR']='/home/jupyter/case_study'"
   ]
  },
  {
   "cell_type": "code",
   "execution_count": 2,
   "metadata": {},
   "outputs": [],
   "source": [
    "data=pd.read_pickle('formated_data.pkl')\n",
    "data = data[data['day']>1500]\n",
    "rolling = ['rolling_median_7','rolling_median_14','rolling_median_28']\n",
    "data = data.drop(rolling,axis=1)\n",
    "train = data[data['day']<=1913]\n",
    "test = data[(data['day']>=1914) & (data['day']<=1941)]"
   ]
  },
  {
   "cell_type": "code",
   "execution_count": 3,
   "metadata": {},
   "outputs": [],
   "source": [
    "xtest = test.drop('sales',axis=1)\n",
    "ytest = test['sales']"
   ]
  },
  {
   "cell_type": "code",
   "execution_count": 4,
   "metadata": {},
   "outputs": [],
   "source": [
    "#Splitting the train data equally.\n",
    "D1,D2=train_test_split(train,test_size=0.5,random_state=42)\n",
    "D1_x = D1.drop('sales',axis=1)\n",
    "D1_y = D1['sales']\n",
    "D2_x = D2.drop('sales',axis=1)\n",
    "D2_y = D2['sales']"
   ]
  },
  {
   "cell_type": "code",
   "execution_count": 33,
   "metadata": {},
   "outputs": [],
   "source": [
    "def k_samples(x,y,k,n=500000):\n",
    "    '''\n",
    "    This function is used to create k samples from the data(x,y) with size n.\n",
    "    \n",
    "    Parameters:\n",
    "    1.x(dataframe) : data with input features.\n",
    "    2.y(dataframe) : data with target features.\n",
    "    3.k(int) : number of base learners.\n",
    "    3.n(int) : Number of rows in each sample, by default 500000 is set.\n",
    "    \n",
    "    Returns:\n",
    "    List of x and y samples.\n",
    "    '''\n",
    "    x_samples,y_samples=[],[]\n",
    "    for i in range(k):\n",
    "        #to get random indeces from index 0 to last index of length 'n'. \n",
    "        indices=np.random.randint(0,x.shape[0],n)\n",
    "        #getting x and y values of the randomly selected index.\n",
    "        x_sample=x.iloc[indices]\n",
    "        y_sample=y.iloc[indices]\n",
    "        #appending the generated samples to a list.\n",
    "        x_samples.append(x_sample)\n",
    "        y_samples.append(y_sample)\n",
    "    return x_samples,y_samples"
   ]
  },
  {
   "cell_type": "code",
   "execution_count": 34,
   "metadata": {},
   "outputs": [
    {
     "name": "stdout",
     "output_type": "stream",
     "text": [
      "\n",
      "    This function is used to create k samples from the data(x,y) with size n.\n",
      "    \n",
      "    Parameters:\n",
      "    1.x(dataframe) : data with input features.\n",
      "    2.y(dataframe) : data with target features.\n",
      "    3.k(int) : number of base learners.\n",
      "    3.n(int) : Number of rows in each sample, by default 500000 is set.\n",
      "    \n",
      "    Returns:\n",
      "    List of x and y samples.\n",
      "    \n"
     ]
    }
   ],
   "source": [
    "print(k_samples.__doc__)"
   ]
  },
  {
   "cell_type": "code",
   "execution_count": 29,
   "metadata": {},
   "outputs": [],
   "source": [
    "def base_models1(x_samples, y_samples):\n",
    "    '''\n",
    "    This function is used to train base models.\n",
    "    \n",
    "    Parameters:\n",
    "    x_samples(list): list of x samples(samples with input features)\n",
    "    y_samples(list): list of y samples(samples with target features)\n",
    "    \n",
    "    Returns:\n",
    "    List of trained base models\n",
    "    '''\n",
    "    trained_base_models = []\n",
    "    for i in range(len(x_samples)):\n",
    "        m = np.random.randint(0,5)\n",
    "        if m == 0:\n",
    "            #Training Bayesian Ridge regression model\n",
    "            base_model = linear_model.BayesianRidge()\n",
    "            base_model.fit(x_samples[i],y_samples[i])\n",
    "            trained_base_models.append(base_model)\n",
    "        elif m == 1:\n",
    "            #Training Ridge regression model\n",
    "            base_model = linear_model.Ridge()\n",
    "            base_model.fit(x_samples[i], y_samples[i])\n",
    "            trained_base_models.append(base_model)\n",
    "        elif m ==2:\n",
    "            #Training Decision Tree Regressor model\n",
    "            base_model =  tree.DecisionTreeRegressor()\n",
    "            base_model.fit(x_samples[i], y_samples[i])\n",
    "            trained_base_models.append(base_model)\n",
    "        elif m ==3:\n",
    "            #Training Bayesian LightGBM Regressor model\n",
    "            base_model =  LGBMRegressor()\n",
    "            base_model.fit(x_samples[i], y_samples[i])\n",
    "            trained_base_models.append(base_model)\n",
    "        elif m ==4:\n",
    "            #Training CatBoost Regressor model\n",
    "            base_model =  CatBoostRegressor(logging_level=\"Silent\")\n",
    "            base_model.fit(x_samples[i], y_samples[i])\n",
    "            trained_base_models.append(base_model)\n",
    "    return trained_base_models"
   ]
  },
  {
   "cell_type": "code",
   "execution_count": 30,
   "metadata": {},
   "outputs": [
    {
     "name": "stdout",
     "output_type": "stream",
     "text": [
      "\n",
      "    This function is used to train base models.\n",
      "    \n",
      "    Parameters:\n",
      "    x_samples(list): list of x samples(samples with input features)\n",
      "    y_samples(list): list of y samples(samples with target features)\n",
      "    \n",
      "    Returns:\n",
      "    List of trained base models\n",
      "    \n"
     ]
    }
   ],
   "source": [
    "print(base_models1.__doc__)"
   ]
  },
  {
   "cell_type": "code",
   "execution_count": 35,
   "metadata": {},
   "outputs": [],
   "source": [
    "def base_model_prediction(base_models, D2_x):\n",
    "    '''\n",
    "    This function is used to get predictions out of base models to feed it as input to meta model.\n",
    "    \n",
    "    Parameters:\n",
    "    base_models(list): Trained base models\n",
    "    D2_x(dataframe) : input data to get predictions from base models\n",
    "    \n",
    "    Returns:\n",
    "    Dataframe with k predictions(k is the number of base learners)\n",
    "    '''\n",
    "    base_predictions = {}\n",
    "    for i in range(len(base_models)):\n",
    "        cname = 'M' + str(i)\n",
    "        prediction = base_models[i].predict(D2_x)\n",
    "        base_predictions[cname] = prediction\n",
    "    return pd.DataFrame(base_predictions)"
   ]
  },
  {
   "cell_type": "code",
   "execution_count": 36,
   "metadata": {},
   "outputs": [
    {
     "name": "stdout",
     "output_type": "stream",
     "text": [
      "\n",
      "    This function is used to get predictions out of base models to feed it as input to meta model.\n",
      "    \n",
      "    Parameters:\n",
      "    base_models(list): Trained base models\n",
      "    D2_x(dataframe) : input data to get predictions from base models\n",
      "    \n",
      "    Returns:\n",
      "    Dataframe with k predictions(k is the number of base learners)\n",
      "    \n"
     ]
    }
   ],
   "source": [
    "print(base_model_prediction.__doc__)"
   ]
  },
  {
   "cell_type": "code",
   "execution_count": 9,
   "metadata": {},
   "outputs": [
    {
     "name": "stderr",
     "output_type": "stream",
     "text": [
      "100%|██████████| 7/7 [14:28<00:00, 124.04s/it]\n"
     ]
    }
   ],
   "source": [
    "number = [5,10,15,20,30,40,50]\n",
    "rmse_list = []\n",
    "for n in tqdm(number):\n",
    "    a,b = k_samples(D1_x, D1_y, n)\n",
    "    base_models = base_models1(a,b)\n",
    "    base_models_predictions_df = base_model_prediction(base_models, D2_x)\n",
    "    #Using Linear regression as the meta model.\n",
    "    meta_model = linear_model.LinearRegression()\n",
    "    meta_model.fit(base_models_predictions_df, D2_y)\n",
    "\n",
    "    base_test_predictions_df = base_model_prediction(base_models, xtest)\n",
    "    ytest_pred = meta_model.predict(base_test_predictions_df)\n",
    "    rmse = mse(ytest, ytest_pred)\n",
    "    rmse_list.append(rmse)"
   ]
  },
  {
   "cell_type": "code",
   "execution_count": 10,
   "metadata": {},
   "outputs": [
    {
     "data": {
      "image/png": "[encoded data removed]",
      "text/plain": [
       "<Figure size 432x288 with 1 Axes>"
      ]
     },
     "metadata": {
      "needs_background": "light"
     },
     "output_type": "display_data"
    }
   ],
   "source": [
    "plt.plot(number, rmse_list)\n",
    "plt.xlabel('Number of base learners')\n",
    "plt.ylabel('RMSE')\n",
    "plt.show()"
   ]
  },
  {
   "cell_type": "markdown",
   "metadata": {},
   "source": [
    "### Optimal base learners are <b>around 10</b> , but we dont know the exact number of optimal base learners .So again <b>finding optimal base learners between 6 and 14</b>."
   ]
  },
  {
   "cell_type": "code",
   "execution_count": 11,
   "metadata": {},
   "outputs": [
    {
     "name": "stderr",
     "output_type": "stream",
     "text": [
      "100%|██████████| 8/8 [15:04<00:00, 113.03s/it]\n"
     ]
    }
   ],
   "source": [
    "number=np.arange(6,14)\n",
    "mse_list = []\n",
    "for n in tqdm(number):\n",
    "    a,b = k_samples(D1_x, D1_y, n)\n",
    "    base_models = base_models1(a,b)\n",
    "    base_models_predictions_df = base_model_prediction(base_models, D2_x)\n",
    "\n",
    "    meta_model = linear_model.LinearRegression()\n",
    "    meta_model.fit(base_models_predictions_df, D2_y)\n",
    "\n",
    "    base_test_predictions_df = base_model_prediction(base_models, xtest)\n",
    "    ytest_pred = meta_model.predict(base_test_predictions_df)\n",
    "    mse = mean_squared_error(ytest, ytest_pred)\n",
    "    mse_list.append(mse)"
   ]
  },
  {
   "cell_type": "code",
   "execution_count": 18,
   "metadata": {},
   "outputs": [
    {
     "data": {
      "image/png": "[encoded data removed]",
      "text/plain": [
       "<Figure size 432x288 with 1 Axes>"
      ]
     },
     "metadata": {
      "needs_background": "light"
     },
     "output_type": "display_data"
    }
   ],
   "source": [
    "plt.plot(number, mse_list)\n",
    "plt.xlabel('Number of base learners')\n",
    "plt.ylabel('MSE')\n",
    "plt.title('MSE vs Number of base learners')\n",
    "plt.show()"
   ]
  },
  {
   "cell_type": "markdown",
   "metadata": {},
   "source": [
    "## <b>Optimal number of base learner is 8</b>. "
   ]
  },
  {
   "cell_type": "code",
   "execution_count": 17,
   "metadata": {},
   "outputs": [
    {
     "name": "stdout",
     "output_type": "stream",
     "text": [
      "MSE for stacking regression model with 8 base models is 5.180074258690378\n"
     ]
    }
   ],
   "source": [
    "n=8\n",
    "a,b = k_samples(D1_x, D1_y, n)\n",
    "base_models = base_models1(a,b)\n",
    "base_models_predictions_df = base_model_prediction(base_models, D2_x)\n",
    "\n",
    "meta_model = linear_model.LinearRegression()\n",
    "meta_model.fit(base_models_predictions_df, D2_y)\n",
    "\n",
    "base_test_predictions_df = base_model_prediction(base_models, xtest)\n",
    "ytest_pred = meta_model.predict(base_test_predictions_df)\n",
    "mse1 = mean_squared_error(ytest, ytest_pred)\n",
    "print(\"MSE for stacking regression model with 8 base models is\",mse1)\n",
    "val_pred = np.reshape(ytest_pred, (-1, 28),order = 'F')"
   ]
  },
  {
   "cell_type": "code",
   "execution_count": 15,
   "metadata": {},
   "outputs": [
    {
     "name": "stderr",
     "output_type": "stream",
     "text": [
      "100%|██████████| 28/28 [00:00<00:00, 522.45it/s]\n"
     ]
    },
    {
     "name": "stdout",
     "output_type": "stream",
     "text": [
      "Submission file with name stacked_regressor1.csv created successfully\n"
     ]
    }
   ],
   "source": [
    "#Predicting output for unseen(evaluation data of sales_train.csv) data using stacking regression model.\n",
    "file_name = \"stacked_regressor1.csv\"\n",
    "test1 = data[(data['day']>=1942)]\n",
    "test1_x = test1.drop('sales',axis=1)\n",
    "test1_y = test1.sales\n",
    "\n",
    "base_test_predictions_df = base_model_prediction(base_models, test1_x)\n",
    "ytest_pred = meta_model.predict(base_test_predictions_df)\n",
    "test_pred = np.reshape(ytest_pred, (-1, 28),order = 'F')\n",
    "    \n",
    "submission = pd.read_csv(\"sample_submission.csv\")\n",
    "sub_validation = submission.iloc[:30490,:]\n",
    "sub_evaluation = submission.iloc[30490:,:]\n",
    "\n",
    "F_columns = submission.columns[1:]\n",
    "for i in tqdm(range(len(F_columns))):\n",
    "    sub_validation[F_columns[i]] = val_pred[:,i]\n",
    "    sub_evaluation[F_columns[i]] = test_pred[:,i]\n",
    "\n",
    "submission = pd.concat([sub_validation,sub_evaluation])\n",
    "submission.to_csv(file_name,index = False)\n",
    "print(\"Submission file with name \"+file_name+\" created successfully\")"
   ]
  },
  {
   "cell_type": "code",
   "execution_count": 16,
   "metadata": {},
   "outputs": [
    {
     "name": "stdout",
     "output_type": "stream",
     "text": [
      "Warning: Your Kaggle API key is readable by other users on this system! To fix this, you can run 'chmod 600 /home/jupyter/case_study/kaggle.json'\n",
      "100%|██████████████████████████████████████| 32.7M/32.7M [00:00<00:00, 49.8MB/s]\n",
      "Successfully submitted to M5 Forecasting - Accuracy"
     ]
    }
   ],
   "source": [
    "!kaggle competitions submit -c m5-forecasting-accuracy -f stacked_regressor1.csv -m \"stacking regression model\""
   ]
  },
  {
   "cell_type": "markdown",
   "metadata": {},
   "source": [
    "## Kaggle Submission result"
   ]
  },
  {
   "cell_type": "code",
   "execution_count": 2,
   "metadata": {},
   "outputs": [
    {
     "data": {
      "image/png": "[encoded data removed]",
      "text/plain": [
       "<IPython.core.display.Image object>"
      ]
     },
     "execution_count": 2,
     "metadata": {},
     "output_type": "execute_result"
    }
   ],
   "source": [
    "Image(filename=\"stack1.png\")"
   ]
  },
  {
   "cell_type": "markdown",
   "metadata": {},
   "source": [
    "## Results from basic models  (Submitted as first cut models)"
   ]
  },
  {
   "cell_type": "markdown",
   "metadata": {},
   "source": [
    "||Model name|Private Score| Public Score\n",
    "|--|--|--|--|\n",
    "|1|Linear Regression|0.71721|0.71875|\n",
    "|2|Ridge Regression|0.71707|0.7196|\n",
    "|3|Lasso Regression|0.84179|0.86308|\n",
    "|4|Bayesian Ridge Regression|0.71734|0.71889|\n",
    "|5|ElasticNet|0.72513|0.72270|\n",
    "|6|Least Angle Regression|0.76252|0.78267|"
   ]
  },
  {
   "cell_type": "markdown",
   "metadata": {},
   "source": [
    "## Result from Stacked Regression Model\n",
    " * Base Models : Bayesian Ridge , Ridge , Decision Tree, Light GBM , Cat Boost Regression model.\n",
    " * Meta Model : Linear Regression."
   ]
  },
  {
   "cell_type": "markdown",
   "metadata": {},
   "source": [
    "||Model name|Private Score| Public Score\n",
    "|--|--|--|--|\n",
    "||<b>Stacked Regression Model</b>|<b>0.65766</b>|<b>0.64744</b>|"
   ]
  },
  {
   "cell_type": "markdown",
   "metadata": {},
   "source": [
    "* Stacked regression model performed well when compared to basic models.\n",
    "* Private score of 0.65766 put me in <b>top 5-6%</b> in the leaderboard.\n"
   ]
  },
  {
   "cell_type": "code",
   "execution_count": null,
   "metadata": {},
   "outputs": [],
   "source": []
  }
 ],
 "metadata": {
  "environment": {
   "name": "tf2-gpu.2-3.mnightly-2021-01-20-debian-10-test",
   "type": "gcloud",
   "uri": "gcr.io/deeplearning-platform-release/tf2-gpu.2-3:mnightly-2021-01-20-debian-10-test"
  },
  "kernelspec": {
   "display_name": "Python 3",
   "language": "python",
   "name": "python3"
  },
  "language_info": {
   "codemirror_mode": {
    "name": "ipython",
    "version": 3
   },
   "file_extension": ".py",
   "mimetype": "text/x-python",
   "name": "python",
   "nbconvert_exporter": "python",
   "pygments_lexer": "ipython3",
   "version": "3.7.3"
  }
 },
 "nbformat": 4,
 "nbformat_minor": 5
}
